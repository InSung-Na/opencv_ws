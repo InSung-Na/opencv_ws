{
 "cells": [
  {
   "attachments": {},
   "cell_type": "markdown",
   "metadata": {},
   "source": [
    "# 1. OpenCV 그리기 함수"
   ]
  },
  {
   "cell_type": "code",
   "execution_count": 4,
   "metadata": {},
   "outputs": [],
   "source": [
    "import numpy as np\n",
    "import cv2\n",
    "\n",
    "img = np.full((400, 400, 3), 255, np.uint8)\n",
    "#img = cv2.imread('cat.bmp')\n",
    "\n",
    "cv2.line(img, (50, 50), (200, 50), (0, 0, 255), 5)\n",
    "cv2.line(img, (50, 60), (150, 160), (0, 0, 128))\n",
    "\n",
    "cv2.rectangle(img, (50, 200, 150, 100), (0, 255, 0), 2)\n",
    "cv2.rectangle(img, (70, 220), (180, 280), (0, 128, 0), -1)\n",
    "\n",
    "cv2.circle(img, (300, 100), 30, (255, 255, 0), -1, cv2.LINE_AA)\n",
    "cv2.circle(img, (300, 100), 60, (255, 0, 0), 3, cv2.LINE_AA)\n",
    "\n",
    "pts = np.array([[250, 200], [300, 200], [350, 300], [250, 300]])\n",
    "cv2.polylines(img, [pts], True, (255, 0, 255), 2)\n",
    "\n",
    "text = 'Hello? OpenCV ' + cv2.__version__\n",
    "cv2.putText(img, text, (50, 350), cv2.FONT_HERSHEY_SIMPLEX, 0.8, \n",
    "            (0, 0, 255), 1, cv2.LINE_AA)\n",
    "\n",
    "cv2.imshow(\"img\", img)\n",
    "cv2.waitKey()\n",
    "cv2.destroyAllWindows()"
   ]
  },
  {
   "attachments": {},
   "cell_type": "markdown",
   "metadata": {},
   "source": [
    "# 2. 카메라와 동영상 처리하기"
   ]
  },
  {
   "cell_type": "code",
   "execution_count": 15,
   "metadata": {},
   "outputs": [
    {
     "name": "stdout",
     "output_type": "stream",
     "text": [
      "Camera Opened!\n"
     ]
    }
   ],
   "source": [
    "import sys\n",
    "import cv2\n",
    "\n",
    "cap = cv2.VideoCapture(0)\n",
    "\n",
    "if not cap.isOpened():\n",
    "    print(\"Camera open Failed!\")\n",
    "    sys.exit()\n",
    "else:\n",
    "    print(\"Camera Opened!\")\n",
    "    \n",
    "while True:\n",
    "    ret, frame = cap.read()\n",
    "\n",
    "    if not ret:\n",
    "        break\n",
    "\n",
    "    gray = cv2.cvtColor(frame, cv2.COLOR_BGR2GRAY)\n",
    "\n",
    "    color_flip = cv2.flip(frame, 1)  # 1은 좌우반전, 0은 상하반전\n",
    "    gray_flip = cv2.flip(gray, 1)\n",
    "    \n",
    "    cv2.imshow('frame', frame)\n",
    "    cv2.imshow('gray', gray)\n",
    "    cv2.imshow('color_flip', color_flip)\n",
    "    cv2.imshow('gray_flip', gray_flip)\n",
    "\n",
    "    if cv2.waitKey(1) == 27:  # ESC\n",
    "        break\n",
    "\n",
    "cap.release()\n",
    "cv2.destroyAllWindows()"
   ]
  },
  {
   "cell_type": "code",
   "execution_count": 19,
   "metadata": {},
   "outputs": [
    {
     "name": "stdout",
     "output_type": "stream",
     "text": [
      "Video Opened!\n"
     ]
    }
   ],
   "source": [
    "import sys\n",
    "import cv2\n",
    "\n",
    "cap = cv2.VideoCapture(\"./data/video1.mp4\")\n",
    "\n",
    "if not cap.isOpened():\n",
    "    print(\"Video open Failed!\")\n",
    "    sys.exit()\n",
    "else:\n",
    "    print(\"Video Opened!\")\n",
    "    \n",
    "while True:\n",
    "    ret, frame = cap.read()\n",
    "\n",
    "    if not ret:\n",
    "        break\n",
    "\n",
    "    gray = cv2.cvtColor(frame, cv2.COLOR_BGR2GRAY)\n",
    "    \n",
    "    cv2.imshow('frame', frame)\n",
    "    cv2.imshow('gray', gray)\n",
    "\n",
    "    if cv2.waitKey(1) == 27:  # ESC\n",
    "        break\n",
    "\n",
    "cap.release()\n",
    "cv2.destroyAllWindows()"
   ]
  },
  {
   "attachments": {},
   "cell_type": "markdown",
   "metadata": {},
   "source": [
    "## 동영상 읽기"
   ]
  },
  {
   "cell_type": "code",
   "execution_count": 24,
   "metadata": {},
   "outputs": [
    {
     "name": "stdout",
     "output_type": "stream",
     "text": [
      "Frame width: 1280\n",
      "Frame height: 720\n",
      "Frame count: 85\n",
      "FPS: 24.0\n"
     ]
    }
   ],
   "source": [
    "import sys\n",
    "import cv2\n",
    "\n",
    "\n",
    "# 비디오 파일 열기\n",
    "cap = cv2.VideoCapture('./data/video1.mp4')\n",
    "\n",
    "if not cap.isOpened():\n",
    "    print(\"Video open failed!\")\n",
    "    sys.exit()\n",
    "\n",
    "# 비디오 프레임 크기, 전체 프레임수, FPS 등 출력\n",
    "print('Frame width:', int(cap.get(cv2.CAP_PROP_FRAME_WIDTH)))\n",
    "print('Frame height:', int(cap.get(cv2.CAP_PROP_FRAME_HEIGHT)))\n",
    "print('Frame count:', int(cap.get(cv2.CAP_PROP_FRAME_COUNT)))\n",
    "\n",
    "fps = cap.get(cv2.CAP_PROP_FPS)\n",
    "print('FPS:', fps)\n",
    "\n",
    "delay = round(1000 / fps)\n",
    "\n",
    "# 비디오 매 프레임 처리\n",
    "while True:\n",
    "    ret, frame = cap.read()\n",
    "\n",
    "    if not ret:\n",
    "        break\n",
    "\n",
    "    gray = cv2.cvtColor(frame, cv2.COLOR_BGR2GRAY)\n",
    "\n",
    "    cv2.imshow('frame', frame)\n",
    "    cv2.imshow('gray', gray)\n",
    "\n",
    "    if cv2.waitKey(delay) == 27:\n",
    "        break\n",
    "\n",
    "cap.release()\n",
    "cv2.destroyAllWindows()\n"
   ]
  },
  {
   "attachments": {},
   "cell_type": "markdown",
   "metadata": {},
   "source": [
    "## 동영상 저장하기"
   ]
  },
  {
   "cell_type": "code",
   "execution_count": 2,
   "metadata": {},
   "outputs": [],
   "source": [
    "import sys\n",
    "import cv2\n",
    "\n",
    "\n",
    "cap = cv2.VideoCapture(0)\n",
    "\n",
    "if not cap.isOpened():\n",
    "    print(\"Camera open Failed!\")\n",
    "    sys.exit()\n",
    "\n",
    "w = round(cap.get(cv2.CAP_PROP_FRAME_WIDTH))\n",
    "h = round(cap.get(cv2.CAP_PROP_FRAME_HEIGHT))\n",
    "fps = cap.get(cv2.CAP_PROP_FPS)\n",
    "\n",
    "fourcc = cv2.VideoWriter_fourcc(*\"DIVX\") # *'DIVX' == 'D', 'I', 'V', 'X'\n",
    "delay = round(1000 / fps)\n",
    "\n",
    "out = cv2.VideoWriter('./data/output.avi', fourcc, fps, (w, h))\n",
    "\n",
    "if not out.isOpened():\n",
    "    print('File open Failed!')\n",
    "    cap.release()\n",
    "    sys.exit()\n",
    "\n",
    "while True:\n",
    "    ret, frame = cap.read()\n",
    "\n",
    "    if not ret:\n",
    "        break\n",
    "\n",
    "    gray = cv2.cvtColor(frame, cv2.COLOR_BGR2GRAY)\n",
    "    edge = cv2.Canny(gray, 100, 255)\n",
    "    gray_color = cv2.cvtColor(gray, cv2.COLOR_GRAY2BGR)    # 저장을 위해 BGR로 변환\n",
    "\n",
    "    out.write(gray_color)\n",
    "\n",
    "    cv2.imshow('frame', frame)\n",
    "    cv2.imshow('gray', gray)\n",
    "    cv2.imshow('gray_color', gray_color)\n",
    "    cv2.imshow('edge', edge)\n",
    "\n",
    "    if cv2.waitKey(delay) == 27:\n",
    "        break\n",
    "\n",
    "cap.release()\n",
    "out.release()\n",
    "cv2.destroyAllWindows()\n"
   ]
  },
  {
   "cell_type": "code",
   "execution_count": null,
   "metadata": {},
   "outputs": [],
   "source": []
  }
 ],
 "metadata": {
  "kernelspec": {
   "display_name": "Python 3",
   "language": "python",
   "name": "python3"
  },
  "language_info": {
   "codemirror_mode": {
    "name": "ipython",
    "version": 3
   },
   "file_extension": ".py",
   "mimetype": "text/x-python",
   "name": "python",
   "nbconvert_exporter": "python",
   "pygments_lexer": "ipython3",
   "version": "3.11.3"
  },
  "orig_nbformat": 4
 },
 "nbformat": 4,
 "nbformat_minor": 2
}
