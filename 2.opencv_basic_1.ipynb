{
 "cells": [
  {
   "attachments": {},
   "cell_type": "markdown",
   "metadata": {},
   "source": [
    "# 1. 영상 데이터의 속성"
   ]
  },
  {
   "attachments": {},
   "cell_type": "markdown",
   "metadata": {},
   "source": [
    "## 영상 데이터의 속성"
   ]
  },
  {
   "cell_type": "code",
   "execution_count": 2,
   "metadata": {},
   "outputs": [
    {
     "name": "stdout",
     "output_type": "stream",
     "text": [
      "type(img1): <class 'numpy.ndarray'>\n",
      "img1.shape: (480, 640)\n",
      "img2.shape: (480, 640, 3)\n",
      "img2.dtype: uint8\n",
      "img2 size: 640 x 480\n",
      "img1 is a grayscale image\n"
     ]
    }
   ],
   "source": [
    "import cv2\n",
    "import sys\n",
    "\n",
    "# 영상 불러오기\n",
    "img1 = cv2.imread('./data/cat.bmp', cv2.IMREAD_GRAYSCALE)\n",
    "img2 = cv2.imread('./data/cat.bmp', cv2.IMREAD_COLOR)\n",
    "\n",
    "# 영상 속성\n",
    "print('type(img1):', type(img1)) # type(img1): <class 'numpy.ndarray'>\n",
    "print('img1.shape:', img1.shape) # img1.shape: (h, w)\n",
    "print('img2.shape:', img2.shape) # img2.shape: (h, w, 3)\n",
    "print('img2.dtype:', img2.dtype) # img2.dtype: uint8\n",
    "h, w = img2.shape[:2]\n",
    "\n",
    "print('img2 size: {} x {}'.format(w, h))\n",
    "\n",
    "# 색상 속성\n",
    "if len(img1.shape) == 2:\n",
    "    print('img1 is a grayscale image')\n",
    "elif len(img1.shape) == 3:\n",
    "    print('img1 is a truecolor image')"
   ]
  },
  {
   "attachments": {},
   "cell_type": "markdown",
   "metadata": {},
   "source": [
    "## 영상의 픽셀 값 참조\n",
    "- 아래와 같은 작업은 영상작업에서 사용하지 않는 것을 추천"
   ]
  },
  {
   "cell_type": "code",
   "execution_count": 5,
   "metadata": {},
   "outputs": [],
   "source": [
    "img1 = cv2.imread('./data/cat.bmp', cv2.IMREAD_GRAYSCALE)\n",
    "img2 = cv2.imread('./data/cat.bmp', cv2.IMREAD_COLOR)\n",
    "# for y in range(h):\n",
    "#     for x in range(w):\n",
    "#         img1[y, x] = 255\n",
    "#         img2[y, x] = [0, 0, 255]\n",
    "img1[:, :]=255\n",
    "img2[:, :]=[0, 0, 255]  # (B, G, R)\n",
    "\n",
    "cv2.imshow(\"img1\", img1)\n",
    "cv2.imshow(\"img2\", img2)\n",
    "cv2.waitKey()\n",
    "cv2.destroyAllWindows()"
   ]
  },
  {
   "cell_type": "code",
   "execution_count": 5,
   "metadata": {},
   "outputs": [],
   "source": []
  },
  {
   "cell_type": "code",
   "execution_count": null,
   "metadata": {},
   "outputs": [],
   "source": []
  },
  {
   "attachments": {},
   "cell_type": "markdown",
   "metadata": {},
   "source": [
    "# 2. 영상의 생성과 복사"
   ]
  },
  {
   "attachments": {},
   "cell_type": "markdown",
   "metadata": {},
   "source": [
    "## 새 영상 생성하기"
   ]
  },
  {
   "cell_type": "code",
   "execution_count": 6,
   "metadata": {},
   "outputs": [],
   "source": [
    "import numpy as np\n",
    "import cv2\n",
    "\n",
    "# 새 영상 생성하기\n",
    "img1 = np.empty((240, 320), dtype=np.uint8)       # grayscale image\n",
    "img2 = np.zeros((240, 320, 3), dtype=np.uint8)    # color image\n",
    "img3 = np.ones((240, 320), dtype=np.uint8) * 255  # white\n",
    "img4 = np.full((240, 320, 3), (0, 255, 255), dtype=np.uint8)  # yellow\n",
    "\n",
    "cv2.imshow('img1', img1)\n",
    "cv2.imshow('img2', img2)\n",
    "cv2.imshow('img3', img3)\n",
    "cv2.imshow('img4', img4)\n",
    "cv2.waitKey()\n",
    "cv2.destroyAllWindows()"
   ]
  },
  {
   "attachments": {},
   "cell_type": "markdown",
   "metadata": {},
   "source": [
    "## 영상 참조 및 복사"
   ]
  },
  {
   "cell_type": "code",
   "execution_count": 7,
   "metadata": {},
   "outputs": [],
   "source": [
    "img1 = cv2.imread('./data/HappyFish.jpg')\n",
    "\n",
    "img2 = img1         # img1을 참조\n",
    "img3 = img1.copy()  # img1을 복사\n",
    "\n",
    "img1[:, :, :] = 255\n",
    "\n",
    "cv2.imshow('img1', img1)\n",
    "cv2.imshow('img2', img2)\n",
    "cv2.imshow('img3', img3)\n",
    "cv2.waitKey()\n",
    "cv2.destroyAllWindows()"
   ]
  },
  {
   "cell_type": "code",
   "execution_count": null,
   "metadata": {},
   "outputs": [],
   "source": []
  },
  {
   "attachments": {},
   "cell_type": "markdown",
   "metadata": {},
   "source": [
    "# 3. 부분 영상 다루기"
   ]
  },
  {
   "attachments": {},
   "cell_type": "markdown",
   "metadata": {},
   "source": [
    "## 부분 영상 추출"
   ]
  },
  {
   "cell_type": "code",
   "execution_count": 8,
   "metadata": {},
   "outputs": [],
   "source": [
    "import numpy as np\n",
    "import cv2\n",
    "\n",
    "\n",
    "# 부분 영상 추출\n",
    "img1 = cv2.imread('./data/HappyFish.jpg')\n",
    "\n",
    "# img.shape = (h, w)\n",
    "img2 = img1[40:120, 30:150]  # numpy.ndarray의 슬라이싱\n",
    "img3 = img1[40:120, 30:150].copy()\n",
    "\n",
    "img2.fill(0)\n",
    "\n",
    "cv2.imshow('img1', img1)\n",
    "cv2.imshow('img2', img2)\n",
    "cv2.imshow('img3', img3)\n",
    "cv2.waitKey()\n",
    "cv2.destroyAllWindows()"
   ]
  },
  {
   "attachments": {},
   "cell_type": "markdown",
   "metadata": {},
   "source": [
    "## 부분 영상처리"
   ]
  },
  {
   "cell_type": "code",
   "execution_count": 20,
   "metadata": {},
   "outputs": [],
   "source": [
    "# 부분 영상 처리\n",
    "img = cv2.imread('./data/lenna.bmp', cv2.IMREAD_GRAYSCALE)\n",
    "\n",
    "img_face = img[200:400, 200:400]  # 얼굴 영역(관심영역, ROI)\n",
    "\n",
    "# cv2.add(input, add_num, output)\n",
    "cv2.add(img_face, 50, img_face)   # 밝기 조절\n",
    "cv2.circle(img_face, (100, 100), 80, 0, 2)\n",
    "cv2.imshow('img', img)\n",
    "cv2.waitKey()\n",
    "cv2.destroyAllWindows()"
   ]
  },
  {
   "cell_type": "code",
   "execution_count": null,
   "metadata": {},
   "outputs": [],
   "source": []
  },
  {
   "attachments": {},
   "cell_type": "markdown",
   "metadata": {},
   "source": [
    "# 4. 마스크 영상과 ROI"
   ]
  },
  {
   "attachments": {},
   "cell_type": "markdown",
   "metadata": {},
   "source": [
    "## 마스크 영상을 이용한 영상 합성"
   ]
  },
  {
   "cell_type": "code",
   "execution_count": 10,
   "metadata": {},
   "outputs": [],
   "source": [
    "import sys\n",
    "import cv2\n",
    "\n",
    "\n",
    "# 마스크 영상을 이용한 영상 합성\n",
    "src = cv2.imread('./data/airplane.bmp', cv2.IMREAD_COLOR)\n",
    "mask = cv2.imread('./data/mask_plane.bmp', cv2.IMREAD_GRAYSCALE)\n",
    "dst = cv2.imread('./data/field.bmp', cv2.IMREAD_COLOR)\n",
    "\n",
    "if src is None or mask is None or dst is None:\n",
    "    print('Image load failed!')\n",
    "    sys.exit()\n",
    "    \n",
    "# mask에서 값이 0이 아닌 부분을 src에서 복사해서 dst에 합성\n",
    "# cv2.copyTo() 실행 시에 모든 요소의 크기가 같아야 함\n",
    "cv2.copyTo(src, mask, dst)\n",
    "# dst[mask > 0] = src[mask > 0]\n",
    "\n",
    "cv2.imshow('src', src)\n",
    "cv2.imshow('dst', dst)\n",
    "cv2.imshow('mask', mask)\n",
    "cv2.waitKey()\n",
    "cv2.destroyAllWindows()\n"
   ]
  },
  {
   "cell_type": "code",
   "execution_count": null,
   "metadata": {},
   "outputs": [],
   "source": []
  },
  {
   "attachments": {},
   "cell_type": "markdown",
   "metadata": {},
   "source": [
    "# 5. 투명한 PNG파일 합성하기\n",
    "## 알파 채널을 마스크 영상으로 이용"
   ]
  },
  {
   "cell_type": "code",
   "execution_count": 13,
   "metadata": {},
   "outputs": [],
   "source": [
    "import sys\n",
    "import cv2\n",
    "\n",
    "# 알파 채널을 마스크 영상으로 이용\n",
    "src = cv2.imread('./data/cat.bmp', cv2.IMREAD_COLOR)\n",
    "logo = cv2.imread('./data/opencv-logo-white.png', cv2.IMREAD_UNCHANGED)\n",
    "\n",
    "if src is None or logo is None:\n",
    "    print('Image load failed!')\n",
    "    sys.exit()\n",
    "\n",
    "mask = logo[:, :, 3]    # mask는 알파 채널로 만든 마스크 영상\n",
    "logo = logo[:, :, 0:3]  # logo는 b, g, r 3채널로 구성된 컬러 영상\n",
    "h, w = mask.shape[:2]\n",
    "crop = src[10:10+h, 10:10+w]  # logo, mask와 같은 크기의 부분 영상 참조\n",
    "\n",
    "cv2.copyTo(logo, mask, crop)  # logo를 crop에 합성 -> crop은 src의 참조이므로 src 수정됨\n",
    "# crop[mask > 0] = logo[mask > 0]\n",
    "\n",
    "cv2.imshow('src', src)\n",
    "cv2.imshow('logo', logo)\n",
    "cv2.imshow('mask', mask)\n",
    "cv2.waitKey()\n",
    "cv2.destroyAllWindows()"
   ]
  },
  {
   "cell_type": "code",
   "execution_count": 35,
   "metadata": {},
   "outputs": [
    {
     "data": {
      "text/plain": [
       "((222, 180), (222, 180, 3), (480, 640, 3))"
      ]
     },
     "execution_count": 35,
     "metadata": {},
     "output_type": "execute_result"
    }
   ],
   "source": [
    "mask.shape, logo.shape, src.shape"
   ]
  },
  {
   "cell_type": "code",
   "execution_count": 17,
   "metadata": {},
   "outputs": [
    {
     "data": {
      "text/plain": [
       "array([[[191, 190, 170],\n",
       "        [199, 195, 176],\n",
       "        [205, 201, 182],\n",
       "        ...,\n",
       "        [244, 242, 237],\n",
       "        [244, 242, 237],\n",
       "        [244, 242, 237]],\n",
       "\n",
       "       [[193, 192, 172],\n",
       "        [200, 196, 177],\n",
       "        [207, 202, 183],\n",
       "        ...,\n",
       "        [244, 242, 237],\n",
       "        [244, 242, 237],\n",
       "        [244, 242, 237]],\n",
       "\n",
       "       [[194, 192, 172],\n",
       "        [200, 196, 177],\n",
       "        [207, 203, 184],\n",
       "        ...,\n",
       "        [244, 242, 237],\n",
       "        [244, 242, 237],\n",
       "        [244, 242, 237]],\n",
       "\n",
       "       ...,\n",
       "\n",
       "       [[  0,  15,  28],\n",
       "        [  0,  16,  29],\n",
       "        [  2,  18,  30],\n",
       "        ...,\n",
       "        [  3,  10,  13],\n",
       "        [  4,  11,  14],\n",
       "        [  3,  10,  12]],\n",
       "\n",
       "       [[  0,  17,  27],\n",
       "        [  1,  17,  29],\n",
       "        [  1,  17,  29],\n",
       "        ...,\n",
       "        [  2,  11,  12],\n",
       "        [  3,  11,  13],\n",
       "        [  2,  10,  13]],\n",
       "\n",
       "       [[  0,  17,  27],\n",
       "        [  0,  15,  27],\n",
       "        [  0,  15,  27],\n",
       "        ...,\n",
       "        [  1,  12,  11],\n",
       "        [  3,  11,  13],\n",
       "        [  3,  10,  14]]], dtype=uint8)"
      ]
     },
     "execution_count": 17,
     "metadata": {},
     "output_type": "execute_result"
    }
   ],
   "source": [
    "src"
   ]
  },
  {
   "cell_type": "code",
   "execution_count": 16,
   "metadata": {},
   "outputs": [
    {
     "data": {
      "text/plain": [
       "array([[[170, 190, 191],\n",
       "        [176, 195, 199],\n",
       "        [182, 201, 205],\n",
       "        ...,\n",
       "        [237, 242, 244],\n",
       "        [237, 242, 244],\n",
       "        [237, 242, 244]],\n",
       "\n",
       "       [[172, 192, 193],\n",
       "        [177, 196, 200],\n",
       "        [183, 202, 207],\n",
       "        ...,\n",
       "        [237, 242, 244],\n",
       "        [237, 242, 244],\n",
       "        [237, 242, 244]],\n",
       "\n",
       "       [[172, 192, 194],\n",
       "        [177, 196, 200],\n",
       "        [184, 203, 207],\n",
       "        ...,\n",
       "        [237, 242, 244],\n",
       "        [237, 242, 244],\n",
       "        [237, 242, 244]],\n",
       "\n",
       "       ...,\n",
       "\n",
       "       [[ 28,  15,   0],\n",
       "        [ 29,  16,   0],\n",
       "        [ 30,  18,   2],\n",
       "        ...,\n",
       "        [ 13,  10,   3],\n",
       "        [ 14,  11,   4],\n",
       "        [ 12,  10,   3]],\n",
       "\n",
       "       [[ 27,  17,   0],\n",
       "        [ 29,  17,   1],\n",
       "        [ 29,  17,   1],\n",
       "        ...,\n",
       "        [ 12,  11,   2],\n",
       "        [ 13,  11,   3],\n",
       "        [ 13,  10,   2]],\n",
       "\n",
       "       [[ 27,  17,   0],\n",
       "        [ 27,  15,   0],\n",
       "        [ 27,  15,   0],\n",
       "        ...,\n",
       "        [ 11,  12,   1],\n",
       "        [ 13,  11,   3],\n",
       "        [ 14,  10,   3]]], dtype=uint8)"
      ]
     },
     "execution_count": 16,
     "metadata": {},
     "output_type": "execute_result"
    }
   ],
   "source": [
    "cv2.cvtColor(src, cv2.COLOR_BGR2RGB)"
   ]
  }
 ],
 "metadata": {
  "kernelspec": {
   "display_name": "Python 3",
   "language": "python",
   "name": "python3"
  },
  "language_info": {
   "codemirror_mode": {
    "name": "ipython",
    "version": 3
   },
   "file_extension": ".py",
   "mimetype": "text/x-python",
   "name": "python",
   "nbconvert_exporter": "python",
   "pygments_lexer": "ipython3",
   "version": "3.11.3"
  },
  "orig_nbformat": 4
 },
 "nbformat": 4,
 "nbformat_minor": 2
}
